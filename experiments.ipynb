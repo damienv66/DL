{
 "cells": [
  {
   "cell_type": "code",
   "execution_count": 1,
   "metadata": {},
   "outputs": [
    {
     "name": "stderr",
     "output_type": "stream",
     "text": [
      "/tmp/ipykernel_1655549/3188018843.py:1: DeprecationWarning: \n",
      "Pyarrow will become a required dependency of pandas in the next major release of pandas (pandas 3.0),\n",
      "(to allow more performant data types, such as the Arrow string type, and better interoperability with other libraries)\n",
      "but was not found to be installed on your system.\n",
      "If this would cause problems for you,\n",
      "please provide us feedback at https://github.com/pandas-dev/pandas/issues/54466\n",
      "        \n",
      "  import pandas as pd\n"
     ]
    }
   ],
   "source": [
    "import pandas as pd\n",
    "import numpy as np\n",
    "import matplotlib.pyplot as plt\n",
    "import model\n",
    "import os\n",
    "import sys\n",
    "import time\n",
    "import datetime\n",
    "import dataloader\n",
    "import os\n",
    "from torch.utils.data import Dataset\n",
    "from PIL import Image\n",
    "import torchvision.transforms as transforms\n",
    "from torchvision.transforms import ToTensor, Compose\n",
    "from torch.utils.data import DataLoader\n",
    "import torch.nn as nn\n",
    "import torch\n",
    "import torch\n",
    "import torch.nn as  nn\n",
    "import torch.nn.functional as F\n",
    "import torch\n",
    "import  torchvision"
   ]
  },
  {
   "cell_type": "code",
   "execution_count": 2,
   "metadata": {},
   "outputs": [],
   "source": [
    "import model\n",
    "from model import ResNet50\n",
    "from dataloader import MILDataset\n",
    "import torch\n",
    "from sklearn.model_selection import train_test_split"
   ]
  },
  {
   "cell_type": "code",
   "execution_count": 3,
   "metadata": {},
   "outputs": [],
   "source": [
    "train_data=pd.read_csv('trainset/trainset_true.csv')\n",
    "train_df, test_df = train_test_split(train_data,\n",
    "                                             test_size=0.3,\n",
    "                                             random_state=999,\n",
    "                                             shuffle=True,\n",
    "                                             stratify=train_data.LABEL)"
   ]
  },
  {
   "cell_type": "code",
   "execution_count": 4,
   "metadata": {},
   "outputs": [
    {
     "data": {
      "text/plain": [
       "LABEL\n",
       "1    79\n",
       "0    35\n",
       "Name: count, dtype: int64"
      ]
     },
     "execution_count": 4,
     "metadata": {},
     "output_type": "execute_result"
    }
   ],
   "source": [
    "train_df.LABEL.value_counts()"
   ]
  },
  {
   "cell_type": "code",
   "execution_count": 5,
   "metadata": {},
   "outputs": [
    {
     "data": {
      "text/plain": [
       "0.6929824561403509"
      ]
     },
     "execution_count": 5,
     "metadata": {},
     "output_type": "execute_result"
    }
   ],
   "source": [
    "79/114"
   ]
  },
  {
   "cell_type": "code",
   "execution_count": 6,
   "metadata": {},
   "outputs": [],
   "source": [
    "train_dataset = MILDataset(root_dir='trainset/',\n",
    "                         df=train_df,\n",
    "                         transform=Compose([ToTensor()]))\n",
    "\n",
    "\n",
    "val_dataset = MILDataset(root_dir='trainset/',\n",
    "                         df=test_df,\n",
    "                         transform=Compose([ToTensor()]))\n",
    "\n",
    "\n",
    "train_loader = DataLoader(train_dataset, batch_size=1, shuffle=False, num_workers=4)\n",
    "val_loader = DataLoader(val_dataset, batch_size=1, shuffle=False, num_workers=4)"
   ]
  },
  {
   "cell_type": "code",
   "execution_count": 7,
   "metadata": {},
   "outputs": [],
   "source": [
    "import torch.nn as nn\n",
    "import torch\n",
    "\n",
    "from torch import Tensor\n",
    "from typing import Type\n",
    "\n",
    "class BasicBlock(nn.Module):\n",
    "    \"\"\"Basic Block for ResNet18 and ResNet34\"\"\"\n",
    "    def __init__(\n",
    "        self,\n",
    "        in_channels: int,\n",
    "        out_channels: int,\n",
    "        stride: int = 1,\n",
    "        expansion: int = 1,\n",
    "        downsample: nn.Module = None\n",
    "    ) -> None:\n",
    "        super(BasicBlock, self).__init__()\n",
    "        # Multiplicative factor for the subsequent conv2d layer's output channels.\n",
    "        # It is 1 for ResNet18 and ResNet34.\n",
    "        self.expansion = expansion\n",
    "        self.downsample = downsample\n",
    "        self.conv1 = nn.Conv2d(\n",
    "            in_channels,\n",
    "            out_channels,\n",
    "            kernel_size=3,\n",
    "            stride=stride,\n",
    "            padding=1,\n",
    "            bias=False\n",
    "        )\n",
    "        self.bn1 = nn.BatchNorm2d(out_channels)\n",
    "        self.relu = nn.ReLU(inplace=True)\n",
    "        self.conv2 = nn.Conv2d(\n",
    "            out_channels,\n",
    "            out_channels*self.expansion,\n",
    "            kernel_size=3,\n",
    "            padding=1,\n",
    "            bias=False\n",
    "        )\n",
    "        self.bn2 = nn.BatchNorm2d(out_channels*self.expansion)\n",
    "    def forward(self, x: Tensor) -> Tensor:\n",
    "        identity = x # store copy of input tensor\n",
    "        out = self.conv1(x)\n",
    "        out = self.bn1(out)\n",
    "        out = self.relu(out)\n",
    "        out = self.conv2(out)\n",
    "        out = self.bn2(out)\n",
    "        if self.downsample is not None:\n",
    "            identity = self.downsample(x)\n",
    "        out += identity # add input tensor to output tensor - residual connection\n",
    "        out = self.relu(out)\n",
    "        return out\n",
    "\n",
    "class ResNet(nn.Module):\n",
    "    def __init__(\n",
    "        self,\n",
    "        img_channels: int, # either grayscale or RGB images\n",
    "        num_layers: int,K: int,\n",
    "        block: Type[BasicBlock],\n",
    "        num_classes: int = 1000, average='mean'\n",
    "    ) -> None:\n",
    "        super(ResNet, self).__init__()\n",
    "        if num_layers == 18:\n",
    "            # The following `layers` list defines the number of `BasicBlock`\n",
    "            # to use to build the network and how many basic blocks to stack\n",
    "            # together.\n",
    "            layers = [1, 1, 1, 1]\n",
    "            self.expansion = 1\n",
    "        self.in_channels = K\n",
    "        # All ResNets (18 to 152) contain a Conv2d => BN => ReLU for the first\n",
    "        # three layers. Here, kernel size is 7.\n",
    "        self.conv1 = nn.Conv2d(\n",
    "            in_channels=img_channels,\n",
    "            out_channels=self.in_channels,\n",
    "            kernel_size=7,\n",
    "            stride=2,\n",
    "            padding=3,\n",
    "            bias=False\n",
    "        )\n",
    "        self.average=average\n",
    "        self.bn1 = nn.BatchNorm2d(self.in_channels)\n",
    "        self.relu = nn.ReLU(inplace=True)\n",
    "        self.maxpool = nn.MaxPool2d(kernel_size=3, stride=2, padding=1)\n",
    "        self.layer1 = self._make_layer(block, K, layers[0])\n",
    "        self.layer2 = self._make_layer(block, K*2, layers[1], stride=2)\n",
    "        self.layer3 = self._make_layer(block, K*4, layers[2], stride=2)\n",
    "        self.layer4 = self._make_layer(block, K*8, layers[3], stride=2)\n",
    "        self.avgpool = nn.AdaptiveAvgPool2d((1, 1))\n",
    "        self.fc = nn.Linear(7*7*8*K*self.expansion, num_classes)\n",
    "    def _make_layer(\n",
    "        self,\n",
    "        block: Type[BasicBlock],\n",
    "        out_channels: int,\n",
    "        blocks: int,\n",
    "        stride: int = 1\n",
    "    ) -> nn.Sequential:\n",
    "        downsample = None\n",
    "        if stride != 1:\n",
    "            \"\"\"\n",
    "            This should pass from `layer2` to `layer4` or \n",
    "            when building ResNets50 and above. Section 3.3 of the paper\n",
    "            Deep Residual Learning for Image Recognition\n",
    "            (https://arxiv.org/pdf/1512.03385v1.pdf).\n",
    "            \"\"\"\n",
    "            downsample = nn.Sequential(\n",
    "                nn.Conv2d(\n",
    "                    self.in_channels,\n",
    "                    out_channels*self.expansion,\n",
    "                    kernel_size=1,\n",
    "                    stride=stride,\n",
    "                    bias=False\n",
    "                ),\n",
    "                nn.BatchNorm2d(out_channels * self.expansion),\n",
    "            )\n",
    "        layers = [] # for storing the layers\n",
    "        layers.append(\n",
    "            block(\n",
    "                self.in_channels, out_channels, stride, self.expansion, downsample\n",
    "            )\n",
    "        )\n",
    "        self.in_channels = out_channels * self.expansion\n",
    "        for i in range(1, blocks):\n",
    "            layers.append(block(\n",
    "                self.in_channels,\n",
    "                out_channels,\n",
    "                expansion=self.expansion\n",
    "            ))\n",
    "        return nn.Sequential(*layers)\n",
    "    def forward(self, x: Tensor) -> Tensor:\n",
    "        x = self.conv1(x)\n",
    "        x = self.bn1(x)\n",
    "        x = self.relu(x)\n",
    "        x = self.maxpool(x)\n",
    "        x = self.layer1(x)\n",
    "        x = self.layer2(x)\n",
    "        x = self.layer3(x)\n",
    "        x = self.layer4(x)\n",
    "        # The spatial dimension of the final layer's feature\n",
    "        # map should be (7, 7) for all ResNets.\n",
    "        # print('Dimensions of the last convolutional feature map: ', x.shape)\n",
    "        #x = self.avgpool(x)\n",
    "        \n",
    "        x = torch.flatten(x, 1)\n",
    "        #print(x.shape)\n",
    "        if self.average=='mean':\n",
    "            x = torch.mean(x, dim=0)\n",
    "        return x\n",
    "\n",
    "def CNN_net(K,average, num_classes=2):\n",
    "    def __init__(self, K, num_classes=2, channels=3):\n",
    "        super(CNN_net, self).__init__()\n",
    "        self.ResNet=ResNet(img_channels=channels, num_layers=18, K=K, block=BasicBlock, num_classes=num_classes, average=average)\n",
    "        self.fc = nn.Linear(K*8*7*7, num_classes)    \n",
    "            \n",
    "    def forward(self, bag_images):\n",
    "       x = self.ResNet(bag_images)\n",
    "       #print(x.shape, 'sortie res net')\n",
    "       x = torch.mean(x, dim=0)\n",
    "       #print(x.shape, 'sortie  mean')\n",
    "       #x = F.relu(x)\n",
    "       \n",
    "       x = self.fc(x)\n",
    "       print(x.shape, 'sortie  linear')\n",
    "       #print(x.shape)\n",
    "       #x = F.relu(x)\n",
    "       x = torch.log_softmax(x,dim=0)\n",
    "       #print(x.shape, 'sortie  softmax')\n",
    "       #print(x)\n",
    "       return x "
   ]
  },
  {
   "cell_type": "code",
   "execution_count": 8,
   "metadata": {},
   "outputs": [],
   "source": [
    "class CNN_net(nn.Module):\n",
    "    def __init__(self, K, num_classes=2, channels=3, average='mean'):\n",
    "        super(CNN_net, self).__init__()\n",
    "        # Supposons que ResNet et BasicBlock sont définis ailleurs correctement.\n",
    "        self.ResNet = ResNet(img_channels=channels, num_layers=18, K=K, block=BasicBlock, num_classes=num_classes, average=average)\n",
    "        self.fc = nn.Linear(K*8*7*7, num_classes)\n",
    "\n",
    "    def forward(self, bag_images):\n",
    "        x = self.ResNet(bag_images)\n",
    "        #print(x.shape, 'sortie mean')\n",
    "        x = self.fc(x)\n",
    "        #print(x.shape, 'sortie linear')\n",
    "        x = torch.log_softmax(x, dim=0)\n",
    "        #print(x.shape, 'sortie softmax')\n",
    "        return x"
   ]
  },
  {
   "cell_type": "code",
   "execution_count": 23,
   "metadata": {},
   "outputs": [
    {
     "name": "stdout",
     "output_type": "stream",
     "text": [
      "torch.Size([2])\n",
      "torch.Size([2])\n",
      "torch.Size([2])\n",
      "torch.Size([2])\n",
      "torch.Size([2])\n",
      "torch.Size([2])\n",
      "torch.Size([2])\n",
      "torch.Size([2])\n",
      "torch.Size([2])\n",
      "torch.Size([2])\n",
      "torch.Size([2])\n",
      "torch.Size([2])\n"
     ]
    },
    {
     "name": "stdout",
     "output_type": "stream",
     "text": [
      "torch.Size([2])\n",
      "torch.Size([2])\n",
      "torch.Size([2])\n",
      "torch.Size([2])\n",
      "torch.Size([2])\n",
      "torch.Size([2])\n",
      "torch.Size([2])\n",
      "torch.Size([2])\n",
      "torch.Size([2])\n",
      "torch.Size([2])\n",
      "torch.Size([2])\n",
      "torch.Size([2])\n",
      "torch.Size([2])\n",
      "torch.Size([2])\n",
      "torch.Size([2])\n",
      "torch.Size([2])\n",
      "torch.Size([2])\n",
      "torch.Size([2])\n",
      "torch.Size([2])\n",
      "torch.Size([2])\n",
      "torch.Size([2])\n",
      "torch.Size([2])\n",
      "torch.Size([2])\n",
      "torch.Size([2])\n",
      "torch.Size([2])\n",
      "torch.Size([2])\n",
      "torch.Size([2])\n",
      "torch.Size([2])\n",
      "torch.Size([2])\n",
      "torch.Size([2])\n",
      "torch.Size([2])\n",
      "torch.Size([2])\n",
      "torch.Size([2])\n",
      "torch.Size([2])\n",
      "torch.Size([2])\n",
      "torch.Size([2])\n",
      "torch.Size([2])\n",
      "torch.Size([2])\n",
      "torch.Size([2])\n",
      "torch.Size([2])\n",
      "torch.Size([2])\n",
      "torch.Size([2])\n",
      "torch.Size([2])\n",
      "torch.Size([2])\n",
      "torch.Size([2])\n",
      "torch.Size([2])\n",
      "torch.Size([2])\n",
      "torch.Size([2])\n",
      "torch.Size([2])\n",
      "torch.Size([2])\n",
      "torch.Size([2])\n",
      "torch.Size([2])\n",
      "torch.Size([2])\n",
      "torch.Size([2])\n",
      "torch.Size([2])\n",
      "torch.Size([2])\n",
      "torch.Size([2])\n",
      "torch.Size([2])\n",
      "torch.Size([2])\n",
      "torch.Size([2])\n",
      "torch.Size([2])\n",
      "torch.Size([2])\n",
      "torch.Size([2])\n",
      "torch.Size([2])\n",
      "torch.Size([2])\n",
      "torch.Size([2])\n",
      "torch.Size([2])\n",
      "torch.Size([2])\n",
      "torch.Size([2])\n",
      "torch.Size([2])\n",
      "torch.Size([2])\n",
      "torch.Size([2])\n",
      "torch.Size([2])\n",
      "torch.Size([2])\n",
      "torch.Size([2])\n",
      "torch.Size([2])\n",
      "torch.Size([2])\n",
      "torch.Size([2])\n",
      "torch.Size([2])\n",
      "torch.Size([2])\n",
      "torch.Size([2])\n",
      "torch.Size([2])\n",
      "torch.Size([2])\n",
      "torch.Size([2])\n",
      "torch.Size([2])\n",
      "torch.Size([2])\n",
      "torch.Size([2])\n",
      "torch.Size([2])\n",
      "torch.Size([2])\n",
      "torch.Size([2])\n",
      "torch.Size([2])\n",
      "torch.Size([2])\n",
      "torch.Size([2])\n",
      "torch.Size([2])\n",
      "torch.Size([2])\n",
      "torch.Size([2])\n",
      "torch.Size([2])\n",
      "torch.Size([2])\n",
      "torch.Size([2])\n",
      "torch.Size([2])\n",
      "torch.Size([2])\n",
      "torch.Size([2])\n"
     ]
    }
   ],
   "source": [
    "ResNet18=ResNet(3, 18, 64, BasicBlock, 2, 'mean').to('cuda')\n",
    "device='cuda'\n",
    "#p.train()\n",
    "for i, data in (enumerate(train_loader)):\n",
    "    inputs, labels = data\n",
    "    images=inputs['instances'].squeeze(0).to(device)\n",
    "    print(final_model(images).shape)\n"
   ]
  },
  {
   "cell_type": "code",
   "execution_count": 24,
   "metadata": {},
   "outputs": [],
   "source": [
    "def weights_init(m):\n",
    "    classname = m.__class__.__name__\n",
    "    if classname.find('Conv') != -1:\n",
    "        nn.init.normal_(m.weight.data, 0.0, 0.02)\n",
    "    elif classname.find('BatchNorm') != -1:\n",
    "        nn.init.normal_(m.weight.data, 1.0, 0.02)\n",
    "        nn.init.constant_(m.bias.data, 0)"
   ]
  },
  {
   "cell_type": "code",
   "execution_count": 9,
   "metadata": {},
   "outputs": [],
   "source": [
    "from tqdm import tqdm\n",
    "from sklearn.metrics import balanced_accuracy_score\n",
    "from sklearn.metrics import accuracy_score, confusion_matrix, balanced_accuracy_score\n",
    "def init_weights(m):\n",
    "    if isinstance(m, nn.Conv2d):\n",
    "        torch.nn.init.kaiming_uniform_(m.weight)\n",
    "\n"
   ]
  },
  {
   "cell_type": "code",
   "execution_count": 12,
   "metadata": {},
   "outputs": [
    {
     "name": "stderr",
     "output_type": "stream",
     "text": [
      "/users/eleves-b/2020/damien.vilcocq/.local/lib/python3.9/site-packages/torch/optim/lr_scheduler.py:28: UserWarning: The verbose parameter is deprecated. Please use get_last_lr() to access the learning rate.\n",
      "  warnings.warn(\"The verbose parameter is deprecated. Please use get_last_lr() \"\n",
      "  0%|          | 0/1000 [00:00<?, ?it/s]"
     ]
    },
    {
     "name": "stdout",
     "output_type": "stream",
     "text": [
      "******** Epoch [1/1000]  ********\n",
      "Training\n"
     ]
    },
    {
     "name": "stdout",
     "output_type": "stream",
     "text": [
      "Validation\n"
     ]
    },
    {
     "name": "stderr",
     "output_type": "stream",
     "text": [
      "  0%|          | 1/1000 [00:07<2:08:52,  7.74s/it]"
     ]
    },
    {
     "name": "stdout",
     "output_type": "stream",
     "text": [
      "Epoch [1/1000] train_loss: 0.7616, val_loss: 0.6730, val_accuracy: 0.6735, val_sensitivity: 0.9412, val_FNR: 0.0588, val_balanced_acc: 0.5039\n",
      "******** Epoch [2/1000]  ********\n",
      "Training\n",
      "Validation\n"
     ]
    },
    {
     "name": "stderr",
     "output_type": "stream",
     "text": [
      "  0%|          | 2/1000 [00:15<2:07:39,  7.67s/it]"
     ]
    },
    {
     "name": "stdout",
     "output_type": "stream",
     "text": [
      "Epoch [2/1000] train_loss: 0.6567, val_loss: 0.6201, val_accuracy: 0.6939, val_sensitivity: 1.0000, val_FNR: 0.0000, val_balanced_acc: 0.5000\n",
      "******** Epoch [3/1000]  ********\n",
      "Training\n",
      "Validation\n"
     ]
    },
    {
     "name": "stderr",
     "output_type": "stream",
     "text": [
      "  0%|          | 3/1000 [00:23<2:08:23,  7.73s/it]"
     ]
    },
    {
     "name": "stdout",
     "output_type": "stream",
     "text": [
      "Epoch [3/1000] train_loss: 0.6235, val_loss: 0.6164, val_accuracy: 0.6939, val_sensitivity: 1.0000, val_FNR: 0.0000, val_balanced_acc: 0.5000\n",
      "******** Epoch [4/1000]  ********\n",
      "Training\n",
      "Validation\n"
     ]
    },
    {
     "name": "stderr",
     "output_type": "stream",
     "text": [
      "  0%|          | 4/1000 [00:30<2:08:59,  7.77s/it]"
     ]
    },
    {
     "name": "stdout",
     "output_type": "stream",
     "text": [
      "Epoch [4/1000] train_loss: 0.6229, val_loss: 0.6230, val_accuracy: 0.6939, val_sensitivity: 1.0000, val_FNR: 0.0000, val_balanced_acc: 0.5000\n",
      "******** Epoch [5/1000]  ********\n",
      "Training\n",
      "Validation\n"
     ]
    },
    {
     "name": "stderr",
     "output_type": "stream",
     "text": [
      "  0%|          | 5/1000 [00:38<2:09:09,  7.79s/it]"
     ]
    },
    {
     "name": "stdout",
     "output_type": "stream",
     "text": [
      "Epoch [5/1000] train_loss: 0.6235, val_loss: 0.6220, val_accuracy: 0.6939, val_sensitivity: 1.0000, val_FNR: 0.0000, val_balanced_acc: 0.5000\n",
      "******** Epoch [6/1000]  ********\n",
      "Training\n",
      "Validation\n"
     ]
    },
    {
     "name": "stderr",
     "output_type": "stream",
     "text": [
      "  1%|          | 6/1000 [00:46<2:09:53,  7.84s/it]"
     ]
    },
    {
     "name": "stdout",
     "output_type": "stream",
     "text": [
      "Epoch [6/1000] train_loss: 0.6162, val_loss: 0.6147, val_accuracy: 0.6939, val_sensitivity: 1.0000, val_FNR: 0.0000, val_balanced_acc: 0.5000\n",
      "******** Epoch [7/1000]  ********\n",
      "Training\n",
      "Validation\n"
     ]
    },
    {
     "name": "stderr",
     "output_type": "stream",
     "text": [
      "  1%|          | 7/1000 [00:54<2:09:36,  7.83s/it]"
     ]
    },
    {
     "name": "stdout",
     "output_type": "stream",
     "text": [
      "Epoch [7/1000] train_loss: 0.6057, val_loss: 0.6078, val_accuracy: 0.6939, val_sensitivity: 1.0000, val_FNR: 0.0000, val_balanced_acc: 0.5000\n",
      "******** Epoch [8/1000]  ********\n",
      "Training\n",
      "Validation\n"
     ]
    },
    {
     "name": "stderr",
     "output_type": "stream",
     "text": [
      "  1%|          | 8/1000 [01:02<2:09:28,  7.83s/it]"
     ]
    },
    {
     "name": "stdout",
     "output_type": "stream",
     "text": [
      "Epoch [8/1000] train_loss: 0.5980, val_loss: 0.6047, val_accuracy: 0.6939, val_sensitivity: 1.0000, val_FNR: 0.0000, val_balanced_acc: 0.5000\n",
      "******** Epoch [9/1000]  ********\n",
      "Training\n",
      "Validation\n"
     ]
    },
    {
     "name": "stderr",
     "output_type": "stream",
     "text": [
      "  1%|          | 9/1000 [01:10<2:09:24,  7.83s/it]"
     ]
    },
    {
     "name": "stdout",
     "output_type": "stream",
     "text": [
      "Epoch [9/1000] train_loss: 0.5945, val_loss: 0.6039, val_accuracy: 0.6939, val_sensitivity: 1.0000, val_FNR: 0.0000, val_balanced_acc: 0.5000\n",
      "******** Epoch [10/1000]  ********\n",
      "Training\n",
      "Validation\n"
     ]
    },
    {
     "name": "stderr",
     "output_type": "stream",
     "text": [
      "  1%|          | 10/1000 [01:17<2:08:30,  7.79s/it]"
     ]
    },
    {
     "name": "stdout",
     "output_type": "stream",
     "text": [
      "Epoch [10/1000] train_loss: 0.5927, val_loss: 0.6027, val_accuracy: 0.6939, val_sensitivity: 1.0000, val_FNR: 0.0000, val_balanced_acc: 0.5000\n",
      "******** Epoch [11/1000]  ********\n",
      "Training\n",
      "Validation\n"
     ]
    },
    {
     "name": "stderr",
     "output_type": "stream",
     "text": [
      "  1%|          | 11/1000 [01:25<2:08:19,  7.79s/it]"
     ]
    },
    {
     "name": "stdout",
     "output_type": "stream",
     "text": [
      "Epoch [11/1000] train_loss: 0.5900, val_loss: 0.6002, val_accuracy: 0.6939, val_sensitivity: 1.0000, val_FNR: 0.0000, val_balanced_acc: 0.5000\n",
      "******** Epoch [12/1000]  ********\n",
      "Training\n",
      "Validation\n"
     ]
    },
    {
     "name": "stderr",
     "output_type": "stream",
     "text": [
      "  1%|          | 12/1000 [01:33<2:08:33,  7.81s/it]"
     ]
    },
    {
     "name": "stdout",
     "output_type": "stream",
     "text": [
      "Epoch [12/1000] train_loss: 0.5861, val_loss: 0.5976, val_accuracy: 0.6939, val_sensitivity: 1.0000, val_FNR: 0.0000, val_balanced_acc: 0.5000\n",
      "******** Epoch [13/1000]  ********\n",
      "Training\n",
      "Validation\n"
     ]
    },
    {
     "name": "stderr",
     "output_type": "stream",
     "text": [
      "  1%|▏         | 13/1000 [01:41<2:08:24,  7.81s/it]"
     ]
    },
    {
     "name": "stdout",
     "output_type": "stream",
     "text": [
      "Epoch [13/1000] train_loss: 0.5820, val_loss: 0.5956, val_accuracy: 0.6939, val_sensitivity: 1.0000, val_FNR: 0.0000, val_balanced_acc: 0.5000\n",
      "******** Epoch [14/1000]  ********\n",
      "Training\n",
      "Validation\n"
     ]
    },
    {
     "name": "stderr",
     "output_type": "stream",
     "text": [
      "  1%|▏         | 14/1000 [01:49<2:08:14,  7.80s/it]"
     ]
    },
    {
     "name": "stdout",
     "output_type": "stream",
     "text": [
      "Epoch [14/1000] train_loss: 0.5783, val_loss: 0.5941, val_accuracy: 0.6939, val_sensitivity: 1.0000, val_FNR: 0.0000, val_balanced_acc: 0.5000\n",
      "******** Epoch [15/1000]  ********\n",
      "Training\n",
      "Validation\n"
     ]
    },
    {
     "name": "stderr",
     "output_type": "stream",
     "text": [
      "  2%|▏         | 15/1000 [01:56<2:08:01,  7.80s/it]"
     ]
    },
    {
     "name": "stdout",
     "output_type": "stream",
     "text": [
      "Epoch [15/1000] train_loss: 0.5746, val_loss: 0.5925, val_accuracy: 0.6939, val_sensitivity: 1.0000, val_FNR: 0.0000, val_balanced_acc: 0.5000\n",
      "******** Epoch [16/1000]  ********\n",
      "Training\n",
      "Validation\n"
     ]
    },
    {
     "name": "stderr",
     "output_type": "stream",
     "text": [
      "  2%|▏         | 16/1000 [02:04<2:08:03,  7.81s/it]"
     ]
    },
    {
     "name": "stdout",
     "output_type": "stream",
     "text": [
      "Epoch [16/1000] train_loss: 0.5709, val_loss: 0.5909, val_accuracy: 0.6939, val_sensitivity: 1.0000, val_FNR: 0.0000, val_balanced_acc: 0.5000\n",
      "******** Epoch [17/1000]  ********\n",
      "Training\n",
      "Validation\n"
     ]
    },
    {
     "name": "stderr",
     "output_type": "stream",
     "text": [
      "  2%|▏         | 17/1000 [02:12<2:08:17,  7.83s/it]"
     ]
    },
    {
     "name": "stdout",
     "output_type": "stream",
     "text": [
      "Epoch [17/1000] train_loss: 0.5674, val_loss: 0.5892, val_accuracy: 0.6939, val_sensitivity: 1.0000, val_FNR: 0.0000, val_balanced_acc: 0.5000\n",
      "******** Epoch [18/1000]  ********\n",
      "Training\n",
      "Validation\n"
     ]
    },
    {
     "name": "stderr",
     "output_type": "stream",
     "text": [
      "  2%|▏         | 18/1000 [02:20<2:08:23,  7.84s/it]"
     ]
    },
    {
     "name": "stdout",
     "output_type": "stream",
     "text": [
      "Epoch [18/1000] train_loss: 0.5640, val_loss: 0.5877, val_accuracy: 0.6939, val_sensitivity: 1.0000, val_FNR: 0.0000, val_balanced_acc: 0.5000\n",
      "******** Epoch [19/1000]  ********\n",
      "Training\n",
      "Validation\n"
     ]
    },
    {
     "name": "stderr",
     "output_type": "stream",
     "text": [
      "  2%|▏         | 19/1000 [02:28<2:08:13,  7.84s/it]"
     ]
    },
    {
     "name": "stdout",
     "output_type": "stream",
     "text": [
      "Epoch [19/1000] train_loss: 0.5609, val_loss: 0.5862, val_accuracy: 0.6939, val_sensitivity: 1.0000, val_FNR: 0.0000, val_balanced_acc: 0.5000\n",
      "******** Epoch [20/1000]  ********\n",
      "Training\n",
      "Validation\n"
     ]
    },
    {
     "name": "stderr",
     "output_type": "stream",
     "text": [
      "  2%|▏         | 20/1000 [02:36<2:08:25,  7.86s/it]"
     ]
    },
    {
     "name": "stdout",
     "output_type": "stream",
     "text": [
      "Epoch [20/1000] train_loss: 0.5579, val_loss: 0.5848, val_accuracy: 0.6939, val_sensitivity: 1.0000, val_FNR: 0.0000, val_balanced_acc: 0.5000\n",
      "******** Epoch [21/1000]  ********\n",
      "Training\n",
      "Validation\n"
     ]
    },
    {
     "name": "stderr",
     "output_type": "stream",
     "text": [
      "  2%|▏         | 21/1000 [02:44<2:08:23,  7.87s/it]"
     ]
    },
    {
     "name": "stdout",
     "output_type": "stream",
     "text": [
      "Epoch [21/1000] train_loss: 0.5548, val_loss: 0.5834, val_accuracy: 0.6939, val_sensitivity: 1.0000, val_FNR: 0.0000, val_balanced_acc: 0.5000\n",
      "******** Epoch [22/1000]  ********\n",
      "Training\n",
      "Validation\n"
     ]
    },
    {
     "name": "stderr",
     "output_type": "stream",
     "text": [
      "  2%|▏         | 22/1000 [02:52<2:08:13,  7.87s/it]"
     ]
    },
    {
     "name": "stdout",
     "output_type": "stream",
     "text": [
      "Epoch [22/1000] train_loss: 0.5517, val_loss: 0.5821, val_accuracy: 0.6939, val_sensitivity: 1.0000, val_FNR: 0.0000, val_balanced_acc: 0.5000\n",
      "******** Epoch [23/1000]  ********\n",
      "Training\n",
      "Validation\n"
     ]
    },
    {
     "name": "stderr",
     "output_type": "stream",
     "text": [
      "  2%|▏         | 23/1000 [02:59<2:08:15,  7.88s/it]"
     ]
    },
    {
     "name": "stdout",
     "output_type": "stream",
     "text": [
      "Epoch [23/1000] train_loss: 0.5486, val_loss: 0.5808, val_accuracy: 0.6939, val_sensitivity: 1.0000, val_FNR: 0.0000, val_balanced_acc: 0.5000\n",
      "******** Epoch [24/1000]  ********\n",
      "Training\n",
      "Validation\n"
     ]
    },
    {
     "name": "stderr",
     "output_type": "stream",
     "text": [
      "  2%|▏         | 24/1000 [03:07<2:08:09,  7.88s/it]"
     ]
    },
    {
     "name": "stdout",
     "output_type": "stream",
     "text": [
      "Epoch [24/1000] train_loss: 0.5455, val_loss: 0.5795, val_accuracy: 0.6939, val_sensitivity: 1.0000, val_FNR: 0.0000, val_balanced_acc: 0.5000\n",
      "******** Epoch [25/1000]  ********\n",
      "Training\n",
      "Validation\n"
     ]
    },
    {
     "name": "stderr",
     "output_type": "stream",
     "text": [
      "  2%|▎         | 25/1000 [03:15<2:08:14,  7.89s/it]"
     ]
    },
    {
     "name": "stdout",
     "output_type": "stream",
     "text": [
      "Epoch [25/1000] train_loss: 0.5425, val_loss: 0.5783, val_accuracy: 0.6939, val_sensitivity: 1.0000, val_FNR: 0.0000, val_balanced_acc: 0.5000\n",
      "******** Epoch [26/1000]  ********\n",
      "Training\n",
      "Validation\n"
     ]
    },
    {
     "name": "stderr",
     "output_type": "stream",
     "text": [
      "  3%|▎         | 26/1000 [03:23<2:08:24,  7.91s/it]"
     ]
    },
    {
     "name": "stdout",
     "output_type": "stream",
     "text": [
      "Epoch [26/1000] train_loss: 0.5396, val_loss: 0.5772, val_accuracy: 0.6939, val_sensitivity: 1.0000, val_FNR: 0.0000, val_balanced_acc: 0.5000\n",
      "******** Epoch [27/1000]  ********\n",
      "Training\n"
     ]
    }
   ],
   "source": [
    "batch_size=30\n",
    "epochs=1000\n",
    "list_train_loss=[]\n",
    "list_val_loss=[]\n",
    "print_frequency = 10\n",
    "save_frequency = 10\n",
    "save_model = True\n",
    "final_model=CNN_net(K=32, average='mean', num_classes=2).to('cuda')\n",
    "final_model.apply(init_weights)\n",
    "optimizer = torch.optim.Adam(final_model.parameters(), lr=0.000006, betas=(0.9, 0.999), weight_decay=0.0005)\n",
    "scheduler = torch.optim.lr_scheduler.ReduceLROnPlateau(optimizer, mode='min', factor=0.8, patience=10, verbose=True)\n",
    "\n",
    "loss_fn = nn.NLLLoss()\n",
    "for epoch in tqdm(range(epochs)):  # loop over the dataset multiple times\n",
    "    \n",
    "    print('******** Epoch [{}/{}]  ********'.format(epoch+1, epochs))\n",
    "    final_model.train()\n",
    "    print('Training')\n",
    "    train_loss=0\n",
    "    accumulated_inputs=[]\n",
    "    accumulated_labels=[]\n",
    "    len_current_batch=0\n",
    "    for i, data in (enumerate(train_loader)):\n",
    "        \n",
    "        \n",
    "        len_current_batch+=1\n",
    "        inputs, labels = data\n",
    "        #print(inputs['id'])\n",
    "        images=inputs['instances'][0].cuda()\n",
    "        labels=labels.cuda()\n",
    "        accumulated_inputs.append(images)\n",
    "        accumulated_labels.append(labels)\n",
    "        if len_current_batch==batch_size or i==len(train_loader)-1:\n",
    "            optimizer.zero_grad()\n",
    "            loss=0\n",
    "            for j in range(len_current_batch):\n",
    "                outputs = final_model(accumulated_inputs[j].to('cuda'))\n",
    "                _, preds = torch.max(outputs.unsqueeze(0), 1)\n",
    "                u=loss_fn(outputs.unsqueeze(0), accumulated_labels[j])\n",
    "                #print(torch.exp(outputs),u,accumulated_labels[j])\n",
    "                if preds==0:\n",
    "                    loss+=loss_fn(outputs.unsqueeze(0), accumulated_labels[j])\n",
    "                else:\n",
    "                    loss+=loss_fn(outputs.unsqueeze(0), accumulated_labels[j])\n",
    "            train_loss+=loss.item()\n",
    "            loss.backward()\n",
    "            optimizer.step()\n",
    "            accumulated_inputs=[]\n",
    "            accumulated_labels=[]\n",
    "            \n",
    "            len_current_batch=0\n",
    "            #print('end of one batch')\n",
    "    list_train_loss.append(train_loss/len(train_loader))\n",
    "    print('Validation')\n",
    "    val_loss=0\n",
    "    with torch.no_grad():   # Disable gradient computation (faster and saves memory)\n",
    "        final_model.eval()        # Disable Dropout and BatchNormalization\n",
    "        all_preds = []\n",
    "        all_labels = []\n",
    "        for k, data in enumerate(val_loader):\n",
    "            inputs, labels = data\n",
    "            images=inputs['instances'][0].cuda()\n",
    "            outputs=final_model(images).cuda()\n",
    "            labels=labels.cuda()\n",
    "            loss=loss_fn(outputs.unsqueeze(0), labels)\n",
    "            _, preds = torch.max(outputs.unsqueeze(0), 1)  # Get the index of the max log-probability as the prediction\n",
    "            all_preds.extend(preds.cpu().numpy())\n",
    "            all_labels.extend(labels.cpu().numpy())\n",
    "            if preds==0:\n",
    "                val_loss+=loss.item()\n",
    "            else:\n",
    "                val_loss+=loss.item()\n",
    "        list_val_loss.append(val_loss/len(val_loader))\n",
    "        #scheduler.step(val_loss/len(val_loader))\n",
    "        balanced_acc = balanced_accuracy_score(all_labels, all_preds)\n",
    "        accuracy = accuracy_score(all_labels, all_preds)\n",
    "        \n",
    "        # Calcul de la matrice de confusion\n",
    "        tn, fp, fn, tp = confusion_matrix(all_labels, all_preds).ravel()\n",
    "        \n",
    "        # Calcul du taux de vrais positifs (sensibilité) et de faux négatifs\n",
    "        sensitivity = tp / (tp + fn)\n",
    "        false_negative_rate = fn / (fn + tp)\n",
    "        \n",
    "        # Calcul de l'accuracy équilibrée\n",
    "        balanced_acc = balanced_accuracy_score(all_labels, all_preds)\n",
    "        \n",
    "        #list_val_loss.append(val_loss)\n",
    "    \n",
    "    # Journalisation\n",
    "        print('Epoch [{}/{}] train_loss: {:.4f}, val_loss: {:.4f}, val_accuracy: {:.4f}, val_sensitivity: {:.4f}, val_FNR: {:.4f}, val_balanced_acc: {:.4f}'.format(\n",
    "        epoch+1, epochs, train_loss/len(train_loader), val_loss/len(val_loader), accuracy, sensitivity, false_negative_rate, balanced_acc))\n",
    "\n",
    "plt.plot(list_train_loss, label='train_loss')\n",
    "plt.plot(list_val_loss, label='val_loss')\n"
   ]
  },
  {
   "cell_type": "code",
   "execution_count": 20,
   "metadata": {},
   "outputs": [
    {
     "data": {
      "text/plain": [
       "<matplotlib.legend.Legend at 0x7f6e136c20a0>"
      ]
     },
     "execution_count": 20,
     "metadata": {},
     "output_type": "execute_result"
    },
    {
     "data": {
      "image/png": "[encoded data removed]",
      "text/plain": [
       "<Figure size 640x480 with 1 Axes>"
      ]
     },
     "metadata": {},
     "output_type": "display_data"
    }
   ],
   "source": [
    "plt.plot(list_train_loss, label='train_loss')\n",
    "plt.plot(list_val_loss, label='val_loss')\n",
    "plt.legend()\n"
   ]
  },
  {
   "cell_type": "code",
   "execution_count": null,
   "metadata": {},
   "outputs": [
    {
     "name": "stdout",
     "output_type": "stream",
     "text": [
      "0.12244897959183673\n"
     ]
    }
   ],
   "source": [
    "c=0\n",
    "for i in all_labels:\n",
    "    if i==0:\n",
    "        c+=1\n",
    "print(c/len(all_preds))"
   ]
  },
  {
   "cell_type": "code",
   "execution_count": null,
   "metadata": {},
   "outputs": [
    {
     "ename": "AttributeError",
     "evalue": "'DataLoader' object has no attribute 'labels'",
     "output_type": "error",
     "traceback": [
      "\u001b[0;31m---------------------------------------------------------------------------\u001b[0m",
      "\u001b[0;31mAttributeError\u001b[0m                            Traceback (most recent call last)",
      "Cell \u001b[0;32mIn[39], line 1\u001b[0m\n\u001b[0;32m----> 1\u001b[0m \u001b[43mval_loader\u001b[49m\u001b[38;5;241;43m.\u001b[39;49m\u001b[43mlabels\u001b[49m\n",
      "\u001b[0;31mAttributeError\u001b[0m: 'DataLoader' object has no attribute 'labels'"
     ]
    }
   ],
   "source": [
    "print(len(all_labels))"
   ]
  },
  {
   "cell_type": "code",
   "execution_count": null,
   "metadata": {},
   "outputs": [
    {
     "data": {
      "text/plain": [
       "tensor([0.8801, 0.1199])"
      ]
     },
     "execution_count": 30,
     "metadata": {},
     "output_type": "execute_result"
    }
   ],
   "source": [
    "torch.exp(outputs)"
   ]
  },
  {
   "cell_type": "code",
   "execution_count": null,
   "metadata": {},
   "outputs": [
    {
     "data": {
      "text/plain": [
       "tensor([[0.8801, 0.1199],\n",
       "        [0.1199, 0.8801]])"
      ]
     },
     "execution_count": 33,
     "metadata": {},
     "output_type": "execute_result"
    }
   ],
   "source": [
    "torch.cat((torch.exp(outputs).unsqueeze(0), (1-torch.exp(outputs)).unsqueeze(0)),0)"
   ]
  },
  {
   "cell_type": "code",
   "execution_count": null,
   "metadata": {},
   "outputs": [
    {
     "data": {
      "text/plain": [
       "tensor([0, 1])"
      ]
     },
     "execution_count": 36,
     "metadata": {},
     "output_type": "execute_result"
    }
   ],
   "source": [
    "u=torch.cat((torch.exp(outputs).unsqueeze(0), (1-torch.exp(outputs)).unsqueeze(0)),0)\n",
    "torch.argmax(u,1)"
   ]
  },
  {
   "cell_type": "code",
   "execution_count": null,
   "metadata": {},
   "outputs": [
    {
     "data": {
      "text/plain": [
       "[<matplotlib.lines.Line2D at 0x7f5504c5d130>]"
      ]
     },
     "execution_count": 15,
     "metadata": {},
     "output_type": "execute_result"
    },
    {
     "data": {
      "image/png": "[encoded data removed]",
      "text/plain": [
       "<Figure size 640x480 with 1 Axes>"
      ]
     },
     "metadata": {},
     "output_type": "display_data"
    }
   ],
   "source": [
    "plt.plot(list_train_loss, label='train_loss')\n",
    "plt.plot(list_val_loss, label='val_loss')"
   ]
  },
  {
   "cell_type": "code",
   "execution_count": null,
   "metadata": {},
   "outputs": [
    {
     "data": {
      "text/plain": [
       "CNN(\n",
       "  (ResNet): ResNet(\n",
       "    (conv1): Conv2d(3, 3, kernel_size=(7, 7), stride=(2, 2), padding=(3, 3), bias=False)\n",
       "    (batch_norm1): BatchNorm2d(3, eps=1e-05, momentum=0.1, affine=True, track_running_stats=True)\n",
       "    (relu): ReLU()\n",
       "    (max_pool): MaxPool2d(kernel_size=3, stride=2, padding=1, dilation=1, ceil_mode=False)\n",
       "    (layer1): Sequential(\n",
       "      (0): Block(\n",
       "        (conv1): Conv2d(3, 3, kernel_size=(3, 3), stride=(1, 1), padding=(1, 1), bias=False)\n",
       "        (batch_norm1): BatchNorm2d(3, eps=1e-05, momentum=0.1, affine=True, track_running_stats=True)\n",
       "        (conv2): Conv2d(3, 3, kernel_size=(3, 3), stride=(1, 1), padding=(1, 1), bias=False)\n",
       "        (batch_norm2): BatchNorm2d(3, eps=1e-05, momentum=0.1, affine=True, track_running_stats=True)\n",
       "        (relu): ReLU()\n",
       "      )\n",
       "    )\n",
       "    (layer2): Sequential(\n",
       "      (0): Block(\n",
       "        (conv1): Conv2d(3, 6, kernel_size=(3, 3), stride=(2, 2), padding=(1, 1), bias=False)\n",
       "        (batch_norm1): BatchNorm2d(6, eps=1e-05, momentum=0.1, affine=True, track_running_stats=True)\n",
       "        (conv2): Conv2d(6, 6, kernel_size=(3, 3), stride=(1, 1), padding=(1, 1), bias=False)\n",
       "        (batch_norm2): BatchNorm2d(6, eps=1e-05, momentum=0.1, affine=True, track_running_stats=True)\n",
       "        (i_downsample): Sequential(\n",
       "          (0): Conv2d(3, 6, kernel_size=(1, 1), stride=(2, 2))\n",
       "          (1): BatchNorm2d(6, eps=1e-05, momentum=0.1, affine=True, track_running_stats=True)\n",
       "        )\n",
       "        (relu): ReLU()\n",
       "      )\n",
       "    )\n",
       "    (layer3): Sequential(\n",
       "      (0): Block(\n",
       "        (conv1): Conv2d(6, 12, kernel_size=(3, 3), stride=(2, 2), padding=(1, 1), bias=False)\n",
       "        (batch_norm1): BatchNorm2d(12, eps=1e-05, momentum=0.1, affine=True, track_running_stats=True)\n",
       "        (conv2): Conv2d(12, 12, kernel_size=(3, 3), stride=(1, 1), padding=(1, 1), bias=False)\n",
       "        (batch_norm2): BatchNorm2d(12, eps=1e-05, momentum=0.1, affine=True, track_running_stats=True)\n",
       "        (i_downsample): Sequential(\n",
       "          (0): Conv2d(6, 12, kernel_size=(1, 1), stride=(2, 2))\n",
       "          (1): BatchNorm2d(12, eps=1e-05, momentum=0.1, affine=True, track_running_stats=True)\n",
       "        )\n",
       "        (relu): ReLU()\n",
       "      )\n",
       "    )\n",
       "    (layer4): Sequential(\n",
       "      (0): Block(\n",
       "        (conv1): Conv2d(12, 24, kernel_size=(3, 3), stride=(2, 2), padding=(1, 1), bias=False)\n",
       "        (batch_norm1): BatchNorm2d(24, eps=1e-05, momentum=0.1, affine=True, track_running_stats=True)\n",
       "        (conv2): Conv2d(24, 24, kernel_size=(3, 3), stride=(1, 1), padding=(1, 1), bias=False)\n",
       "        (batch_norm2): BatchNorm2d(24, eps=1e-05, momentum=0.1, affine=True, track_running_stats=True)\n",
       "        (i_downsample): Sequential(\n",
       "          (0): Conv2d(12, 24, kernel_size=(1, 1), stride=(2, 2))\n",
       "          (1): BatchNorm2d(24, eps=1e-05, momentum=0.1, affine=True, track_running_stats=True)\n",
       "        )\n",
       "        (relu): ReLU()\n",
       "      )\n",
       "    )\n",
       "  )\n",
       "  (fc): Linear(in_features=1176, out_features=2, bias=True)\n",
       ")"
      ]
     },
     "execution_count": 17,
     "metadata": {},
     "output_type": "execute_result"
    }
   ],
   "source": [
    "res.train()"
   ]
  },
  {
   "cell_type": "code",
   "execution_count": null,
   "metadata": {},
   "outputs": [
    {
     "name": "stdout",
     "output_type": "stream",
     "text": [
      "torch.Size([2])\n",
      "torch.Size([1])\n"
     ]
    }
   ],
   "source": [
    "print(outputs.shape)\n",
    "print(labels.shape)"
   ]
  },
  {
   "cell_type": "code",
   "execution_count": null,
   "metadata": {},
   "outputs": [
    {
     "data": {
      "text/plain": [
       "tensor(0.4137, grad_fn=<SelectBackward0>)"
      ]
     },
     "execution_count": 12,
     "metadata": {},
     "output_type": "execute_result"
    }
   ],
   "source": [
    "outputs[0]"
   ]
  },
  {
   "cell_type": "code",
   "execution_count": null,
   "metadata": {},
   "outputs": [
    {
     "data": {
      "text/plain": [
       "tensor([0])"
      ]
     },
     "execution_count": 11,
     "metadata": {},
     "output_type": "execute_result"
    }
   ],
   "source": [
    "accumulated_labels[0]"
   ]
  },
  {
   "cell_type": "code",
   "execution_count": null,
   "metadata": {},
   "outputs": [],
   "source": []
  }
 ],
 "metadata": {
  "kernelspec": {
   "display_name": "Python 3",
   "language": "python",
   "name": "python3"
  },
  "language_info": {
   "codemirror_mode": {
    "name": "ipython",
    "version": 3
   },
   "file_extension": ".py",
   "mimetype": "text/x-python",
   "name": "python",
   "nbconvert_exporter": "python",
   "pygments_lexer": "ipython3",
   "version": "3.9.18"
  }
 },
 "nbformat": 4,
 "nbformat_minor": 2
}
