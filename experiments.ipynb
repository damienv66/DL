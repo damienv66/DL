{
 "cells": [
  {
   "cell_type": "code",
   "execution_count": 18,
   "metadata": {},
   "outputs": [],
   "source": [
    "import pandas as pd\n",
    "import numpy as np\n",
    "import matplotlib.pyplot as plt\n",
    "import model\n",
    "import os\n",
    "import sys\n",
    "import time\n",
    "import datetime\n",
    "import dataloader\n",
    "import os\n",
    "from torch.utils.data import Dataset\n",
    "from PIL import Image\n",
    "import torchvision.transforms as transforms\n",
    "from torchvision.transforms import ToTensor, Compose\n",
    "from torch.utils.data import DataLoader\n",
    "import torch.nn as nn\n",
    "import torch"
   ]
  },
  {
   "cell_type": "code",
   "execution_count": 24,
   "metadata": {},
   "outputs": [],
   "source": [
    "import model\n",
    "from model import ResNet50\n",
    "from dataloader import MILDataset\n",
    "import torch"
   ]
  },
  {
   "cell_type": "code",
   "execution_count": 37,
   "metadata": {},
   "outputs": [],
   "source": [
    "train_dataset = MILDataset(root_dir='trainset/',\n",
    "                         labels_df=pd.read_csv('trainset/trainset_true.csv'),\n",
    "                         transform=Compose([ToTensor()]))\n",
    "train_loader=DataLoader(train_dataset, batch_size=1, shuffle=True)"
   ]
  },
  {
   "cell_type": "code",
   "execution_count": 33,
   "metadata": {},
   "outputs": [
    {
     "data": {
      "text/plain": [
       "<module 'model' from '/users/eleves-b/2020/damien.vilcocq/Desktop/DL/model.py'>"
      ]
     },
     "execution_count": 33,
     "metadata": {},
     "output_type": "execute_result"
    }
   ],
   "source": [
    "import importlib\n",
    "importlib.reload(model)"
   ]
  },
  {
   "cell_type": "code",
   "execution_count": 12,
   "metadata": {},
   "outputs": [
    {
     "data": {
      "text/plain": [
       "torch.Size([80, 25088])"
      ]
     },
     "execution_count": 12,
     "metadata": {},
     "output_type": "execute_result"
    }
   ],
   "source": [
    "model.ResNet50(64 ,channels=3)(train_dataset.__getitem__(0)[0]).shape"
   ]
  },
  {
   "cell_type": "code",
   "execution_count": 34,
   "metadata": {},
   "outputs": [],
   "source": [
    "res=model.CNN(3, num_classes=2, channels=3)"
   ]
  },
  {
   "cell_type": "code",
   "execution_count": 35,
   "metadata": {},
   "outputs": [],
   "source": [
    "epochs =  \"\"\"Complete here\"\"\"\n",
    "print_frequency = 10\n",
    "save_frequency = 10\n",
    "save_model = True\n",
    "\n",
    "optimizer = torch.optim.Adam(res.parameters(), lr=0.0001)\n",
    "loss = nn.NLLLoss()\n"
   ]
  },
  {
   "cell_type": "code",
   "execution_count": null,
   "metadata": {},
   "outputs": [],
   "source": [
    "for epoch in range(epochs):  # loop over the dataset multiple times\n",
    "    print('******** Epoch [{}/{}]  ********'.format(epoch+1, epochs+1))\n",
    "    print(session_name)\n",
    "\n",
    "    # train for one epoch\n",
    "    model.train()\n",
    "    print('Training')\n",
    "\n",
    "    train_loss = \"\"\"Complete here\"\"\"\n",
    "\n",
    "    # evaluate on validation set\n",
    "    print('Validation')\n",
    "    with torch.no_grad():   # Disable gradient computation (faster and saves memory)\n",
    "        model.eval()        # Disable Dropout and BatchNormalization\n",
    "\n",
    "        val_loss = \"\"\"Complete here\"\"\"\n",
    "\n",
    "    if save_model and epoch % save_frequency == 0:\n",
    "        save_checkpoint({'epoch': epoch,\n",
    "                        'state_dict': model.state_dict(),\n",
    "                         'val_loss': val_loss,\n",
    "                         'optimizer': optimizer.state_dict()}, model_path)\n"
   ]
  }
 ],
 "metadata": {
  "kernelspec": {
   "display_name": "Python 3",
   "language": "python",
   "name": "python3"
  },
  "language_info": {
   "codemirror_mode": {
    "name": "ipython",
    "version": 3
   },
   "file_extension": ".py",
   "mimetype": "text/x-python",
   "name": "python",
   "nbconvert_exporter": "python",
   "pygments_lexer": "ipython3",
   "version": "3.9.18"
  }
 },
 "nbformat": 4,
 "nbformat_minor": 2
}
