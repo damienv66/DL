{
 "cells": [
  {
   "cell_type": "code",
   "execution_count": 35,
   "metadata": {},
   "outputs": [],
   "source": [
    "import pandas as pd\n",
    "import numpy as np\n",
    "import matplotlib.pyplot as plt\n",
    "import model\n",
    "import os\n",
    "import sys\n",
    "import time\n",
    "import datetime\n",
    "import dataloader\n",
    "import os\n",
    "from torch.utils.data import Dataset\n",
    "from PIL import Image\n",
    "import torchvision.transforms as transforms\n",
    "from torchvision.transforms import ToTensor, Compose\n",
    "from torch.utils.data import DataLoader"
   ]
  },
  {
   "cell_type": "code",
   "execution_count": 36,
   "metadata": {},
   "outputs": [],
   "source": [
    "import model\n",
    "from model import ResNet50\n",
    "from dataloader import MILDataset\n",
    "import torch"
   ]
  },
  {
   "cell_type": "code",
   "execution_count": 3,
   "metadata": {},
   "outputs": [],
   "source": [
    "train_dataset = MILDataset(root_dir='trainset/',\n",
    "                         labels_df=pd.read_csv('trainset/trainset_true.csv'),\n",
    "                         transform=Compose([ToTensor()]))\n",
    "train=DataLoader(train_dataset, batch_size=1, shuffle=True)"
   ]
  },
  {
   "cell_type": "code",
   "execution_count": 37,
   "metadata": {},
   "outputs": [
    {
     "data": {
      "text/plain": [
       "<module 'model' from '/Users/damien/Desktop/MVA/DL/model.py'>"
      ]
     },
     "execution_count": 37,
     "metadata": {},
     "output_type": "execute_result"
    }
   ],
   "source": [
    "import importlib\n",
    "importlib.reload(model)"
   ]
  },
  {
   "cell_type": "code",
   "execution_count": 6,
   "metadata": {},
   "outputs": [
    {
     "name": "stdout",
     "output_type": "stream",
     "text": [
      "128 64\n",
      "256 128\n",
      "512 256\n",
      "torch.Size([87, 64, 56, 56])\n",
      "torch.Size([87, 64, 56, 56])\n",
      "torch.Size([87, 128, 28, 28])\n",
      "torch.Size([87, 128, 28, 28])\n",
      "torch.Size([87, 256, 14, 14])\n",
      "torch.Size([87, 256, 14, 14])\n",
      "torch.Size([87, 512, 7, 7])\n",
      "torch.Size([87, 512, 7, 7])\n"
     ]
    },
    {
     "data": {
      "text/plain": [
       "torch.Size([87, 25088])"
      ]
     },
     "execution_count": 6,
     "metadata": {},
     "output_type": "execute_result"
    }
   ],
   "source": [
    "model.ResNet50(3, 64 ,channels=3)(train_dataset.__getitem__(0)[0]).shape"
   ]
  },
  {
   "cell_type": "code",
   "execution_count": 38,
   "metadata": {},
   "outputs": [],
   "source": [
    "model=model.CNN(3, num_classes=2, channels=3)"
   ]
  },
  {
   "cell_type": "code",
   "execution_count": 39,
   "metadata": {},
   "outputs": [
    {
     "ename": "NameError",
     "evalue": "name 'nn' is not defined",
     "output_type": "error",
     "traceback": [
      "\u001b[0;31m---------------------------------------------------------------------------\u001b[0m",
      "\u001b[0;31mNameError\u001b[0m                                 Traceback (most recent call last)",
      "\u001b[0;32m<ipython-input-39-164a425f34a3>\u001b[0m in \u001b[0;36m<module>\u001b[0;34m\u001b[0m\n\u001b[1;32m      5\u001b[0m \u001b[0;34m\u001b[0m\u001b[0m\n\u001b[1;32m      6\u001b[0m \u001b[0moptimizer\u001b[0m \u001b[0;34m=\u001b[0m \u001b[0mtorch\u001b[0m\u001b[0;34m.\u001b[0m\u001b[0moptim\u001b[0m\u001b[0;34m.\u001b[0m\u001b[0mAdam\u001b[0m\u001b[0;34m(\u001b[0m\u001b[0mmodel\u001b[0m\u001b[0;34m.\u001b[0m\u001b[0mparameters\u001b[0m\u001b[0;34m(\u001b[0m\u001b[0;34m)\u001b[0m\u001b[0;34m,\u001b[0m \u001b[0mlr\u001b[0m\u001b[0;34m=\u001b[0m\u001b[0;36m0.0001\u001b[0m\u001b[0;34m)\u001b[0m\u001b[0;34m\u001b[0m\u001b[0;34m\u001b[0m\u001b[0m\n\u001b[0;32m----> 7\u001b[0;31m \u001b[0mloss\u001b[0m \u001b[0;34m=\u001b[0m \u001b[0mnn\u001b[0m\u001b[0;34m.\u001b[0m\u001b[0mBCELoss\u001b[0m\u001b[0;34m(\u001b[0m\u001b[0;34m)\u001b[0m\u001b[0;34m\u001b[0m\u001b[0;34m\u001b[0m\u001b[0m\n\u001b[0m",
      "\u001b[0;31mNameError\u001b[0m: name 'nn' is not defined"
     ]
    }
   ],
   "source": [
    "epochs =  \"\"\"Complete here\"\"\"\n",
    "print_frequency = 10\n",
    "save_frequency = 10\n",
    "save_model = True\n",
    "\n",
    "optimizer = torch.optim.Adam(model.parameters(), lr=0.0001)\n",
    "loss = nn.BCELoss()\n"
   ]
  },
  {
   "cell_type": "code",
   "execution_count": null,
   "metadata": {},
   "outputs": [],
   "source": [
    "for epoch in range(epochs):  # loop over the dataset multiple times\n",
    "    print('******** Epoch [{}/{}]  ********'.format(epoch+1, epochs+1))\n",
    "    print(session_name)\n",
    "\n",
    "    # train for one epoch\n",
    "    model.train()\n",
    "    print('Training')\n",
    "\n",
    "    train_loss = \"\"\"Complete here\"\"\"\n",
    "\n",
    "    # evaluate on validation set\n",
    "    print('Validation')\n",
    "    with torch.no_grad():   # Disable gradient computation (faster and saves memory)\n",
    "        model.eval()        # Disable Dropout and BatchNormalization\n",
    "\n",
    "        val_loss = \"\"\"Complete here\"\"\"\n",
    "\n",
    "    if save_model and epoch % save_frequency == 0:\n",
    "        save_checkpoint({'epoch': epoch,\n",
    "                        'state_dict': model.state_dict(),\n",
    "                         'val_loss': val_loss,\n",
    "                         'optimizer': optimizer.state_dict()}, model_path)\n"
   ]
  }
 ],
 "metadata": {
  "kernelspec": {
   "display_name": "Python 3",
   "language": "python",
   "name": "python3"
  },
  "language_info": {
   "codemirror_mode": {
    "name": "ipython",
    "version": 3
   },
   "file_extension": ".py",
   "mimetype": "text/x-python",
   "name": "python",
   "nbconvert_exporter": "python",
   "pygments_lexer": "ipython3",
   "version": "3.8.5"
  }
 },
 "nbformat": 4,
 "nbformat_minor": 2
}
